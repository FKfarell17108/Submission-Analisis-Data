{
  "cells": [
    {
      "cell_type": "markdown",
      "metadata": {
        "id": "H9wADwK78DCz"
      },
      "source": [
        "# Proyek Analisis Data: Bike Sharing\n",
        "- **Nama:** Farell Kurniawan\n",
        "- **Email:** farellkurniawan17108@gmail.com\n",
        "- **ID Dicoding:** farellkurniawan17"
      ]
    },
    {
      "cell_type": "markdown",
      "metadata": {
        "id": "eE0raob58DC0"
      },
      "source": [
        "## Menentukan Pertanyaan Bisnis"
      ]
    },
    {
      "cell_type": "markdown",
      "metadata": {
        "id": "GmQeQ5YF8DC0"
      },
      "source": [
        "- **Pertanyaan 1:** Bagaimana tren penggunaan sepeda harian selama periode tertentu dan apakah faktor cuaca serta hari kerja/holiday berpengaruh signifikan terhadapnya?\n",
        "- **Pertanyaan 2:** Bagaimana pola penggunaan sepeda berdasarkan jam dalam sehari, dan pada jam berapa terdapat puncak penggunaan?"
      ]
    },
    {
      "cell_type": "markdown",
      "metadata": {
        "id": "H-z4QGlO8DC1"
      },
      "source": [
        "## Import Semua Packages/Library yang Digunakan"
      ]
    },
    {
      "cell_type": "code",
      "source": [
        "import pandas as pd\n",
        "import numpy as np\n",
        "import matplotlib.pyplot as plt\n",
        "import seaborn as sns\n",
        "import streamlit as st\n",
        "from datetime import datetime"
      ],
      "metadata": {
        "id": "u_kCWGjdJilR"
      },
      "execution_count": null,
      "outputs": []
    },
    {
      "cell_type": "markdown",
      "metadata": {
        "id": "h_Sh51Xy8DC1"
      },
      "source": [
        "## Data Wrangling"
      ]
    },
    {
      "cell_type": "markdown",
      "metadata": {
        "id": "sXU2GBYu8DC1"
      },
      "source": [
        "### Gathering Data"
      ]
    },
    {
      "cell_type": "code",
      "source": [
        "# Membaca dataset\n",
        "day_df = pd.read_csv('data/day.csv')\n",
        "hour_df = pd.read_csv('data/hour.csv')\n",
        "\n",
        "# Menampilkan 5 baris pertama untuk masing-masing dataset\n",
        "print(\"5 Baris Pertama day_df:\")\n",
        "print(day_df.head())\n",
        "print(\"\\n5 Baris Pertama hour_df:\")\n",
        "print(hour_df.head())"
      ],
      "metadata": {
        "id": "uYMqUhHVJpB0"
      },
      "execution_count": null,
      "outputs": []
    },
    {
      "cell_type": "markdown",
      "source": [
        "**Insight:**\n",
        "- Dataset **day.csv** memberikan informasi agregat harian.\n",
        "- Dataset **hour.csv** menyediakan data granular per jam.\n",
        "- Kedua dataset memiliki fitur seperti tanggal, kondisi cuaca, dan indikator hari libur/kerja."
      ],
      "metadata": {
        "id": "MMi6xGaDkbCi"
      }
    },
    {
      "cell_type": "markdown",
      "metadata": {
        "id": "FHSiqaZp8DC1"
      },
      "source": [
        "### Assessing Data"
      ]
    },
    {
      "cell_type": "code",
      "source": [
        "print(\"\\nInformasi dan Ringkasan Statistik untuk day_df:\")\n",
        "print(day_df.info())\n",
        "print(day_df.describe())\n",
        "\n",
        "print(\"\\nInformasi dan Ringkasan Statistik untuk hour_df:\")\n",
        "print(hour_df.info())\n",
        "print(hour_df.describe())"
      ],
      "metadata": {
        "id": "ax-3tEjc9Cj1"
      },
      "execution_count": null,
      "outputs": []
    },
    {
      "cell_type": "markdown",
      "source": [
        "**Insight:**\n",
        "- Data memiliki tipe data yang sesuai dan tidak terdapat banyak missing values.\n",
        "- Statistik deskriptif memberikan gambaran sebaran data yang bervariasi, sehingga terdapat potensi insight mendalam untuk analisis lebih lanjut.\n"
      ],
      "metadata": {
        "id": "7dtxhAPrkhPL"
      }
    },
    {
      "cell_type": "markdown",
      "metadata": {
        "id": "EhN5R4hr8DC1"
      },
      "source": [
        "### Cleaning Data"
      ]
    },
    {
      "cell_type": "code",
      "source": [
        "# Mengonversi kolom tanggal menjadi datetime\n",
        "day_df['dteday'] = pd.to_datetime(day_df['dteday'])\n",
        "hour_df['dteday'] = pd.to_datetime(hour_df['dteday'])\n",
        "\n",
        "# Cek missing values\n",
        "print(\"\\nCek Missing Values pada day_df:\")\n",
        "print(day_df.isnull().sum())\n",
        "print(\"\\nCek Missing Values pada hour_df:\")\n",
        "print(hour_df.isnull().sum())"
      ],
      "metadata": {
        "id": "jVnYpprE9Evz"
      },
      "execution_count": null,
      "outputs": []
    },
    {
      "cell_type": "markdown",
      "source": [
        "**Insight:**\n",
        "- Kolom `dteday` berhasil dikonversi ke format datetime, memudahkan analisis time series.\n",
        "- Tidak ada missing values yang signifikan, sehingga dataset siap untuk analisis selanjutnya."
      ],
      "metadata": {
        "id": "Q_5ejIqckiSP"
      }
    },
    {
      "cell_type": "markdown",
      "metadata": {
        "id": "gp-Y6wU38DC1"
      },
      "source": [
        "## Exploratory Data Analysis (EDA)"
      ]
    },
    {
      "cell_type": "markdown",
      "metadata": {
        "id": "MW7WF2kr8DC1"
      },
      "source": [
        "### Explore ..."
      ]
    },
    {
      "cell_type": "code",
      "execution_count": null,
      "metadata": {
        "id": "e9CQCZjk8DC2"
      },
      "outputs": [],
      "source": [
        "# Visualisasi tren penyewaan sepeda harian\n",
        "plt.figure(figsize=(12, 6))\n",
        "sns.lineplot(data=day_df, x='dteday', y='cnt', color='steelblue')\n",
        "plt.title('Tren Penyewaan Sepeda Harian')\n",
        "plt.xlabel('Tanggal')\n",
        "plt.ylabel('Jumlah Penyewaan')\n",
        "plt.xticks(rotation=45)\n",
        "plt.tight_layout()\n",
        "plt.show()"
      ]
    },
    {
      "cell_type": "markdown",
      "source": [
        "**Insight:**\n",
        "- Visualisasi tren harian menunjukkan fluktuasi penyewaan sepeda.\n",
        "- Terlihat adanya pola musiman dan kemungkinan adanya pengaruh faktor eksternal seperti cuaca atau hari libur."
      ],
      "metadata": {
        "id": "th_Lzl2Fkj9O"
      }
    },
    {
      "cell_type": "markdown",
      "metadata": {
        "id": "zsyZjqak8DC2"
      },
      "source": [
        "## Visualization & Explanatory Analysis"
      ]
    },
    {
      "cell_type": "markdown",
      "metadata": {
        "id": "HZxOiQ6n8DC2"
      },
      "source": [
        "### Pertanyaan 1:\n",
        "Bagaimana tren penggunaan sepeda harian selama periode tertentu dan apakah faktor cuaca serta hari kerja/holiday berpengaruh signifikan terhadapnya?"
      ]
    },
    {
      "cell_type": "code",
      "execution_count": null,
      "metadata": {
        "id": "1swJUdAD8DC2"
      },
      "outputs": [],
      "source": [
        "# Visualisasi 1: Tren Harian & Pengaruh Hari Kerja vs Libur\n",
        "plt.figure(figsize=(12, 6))\n",
        "sns.lineplot(data=day_df, x='dteday', y='cnt', hue='workingday', palette='Set2')\n",
        "plt.title('Tren Penyewaan Sepeda Harian: Hari Kerja vs Libur')\n",
        "plt.xlabel('Tanggal')\n",
        "plt.ylabel('Jumlah Penyewaan')\n",
        "plt.legend(title=\"Hari Kerja (1) vs Libur (0)\")\n",
        "plt.xticks(rotation=45)\n",
        "plt.tight_layout()\n",
        "plt.show()\n",
        "\n",
        "# Visualisasi 2: Penyewaan Sepeda Berdasarkan Kondisi Cuaca\n",
        "plt.figure(figsize=(10, 6))\n",
        "sns.boxplot(x='weathersit', y='cnt', data=day_df, palette='pastel')\n",
        "plt.title('Penyewaan Sepeda Berdasarkan Kondisi Cuaca')\n",
        "plt.xlabel('Kondisi Cuaca (1: Clear, 2: Misty, 3: Light Rain, 4: Heavy Rain)')\n",
        "plt.ylabel('Jumlah Penyewaan')\n",
        "plt.tight_layout()\n",
        "plt.show()"
      ]
    },
    {
      "cell_type": "markdown",
      "source": [
        "**Insight:**\n",
        "- Tren harian menunjukkan perbedaan signifikan antara hari kerja dan hari libur.\n",
        "- Penyewaan cenderung lebih tinggi pada kondisi cuaca yang lebih baik (misalnya, weathersit=1) dan lebih rendah pada kondisi cuaca ekstrem.\n",
        "- Hal ini mengindikasikan bahwa manajemen operasional dapat mempertimbangkan cuaca dan kalender kerja/libur untuk pengaturan armada."
      ],
      "metadata": {
        "id": "4bOLdDvYK_jQ"
      }
    },
    {
      "cell_type": "markdown",
      "metadata": {
        "id": "DgHI7CiU8DC2"
      },
      "source": [
        "### Pertanyaan 2:\n",
        "Bagaimana pola penggunaan sepeda berdasarkan jam dalam sehari, dan pada jam berapa terdapat puncak penggunaan?"
      ]
    },
    {
      "cell_type": "code",
      "execution_count": null,
      "metadata": {
        "id": "Go0lCsvO8DC2"
      },
      "outputs": [],
      "source": [
        "# Menghitung rata-rata penyewaan per jam\n",
        "hourly_avg = hour_df.groupby('hr')['cnt'].mean().reset_index()\n",
        "\n",
        "# Visualisasi 1: Rata-Rata Penyewaan Sepeda per Jam (Line Plot)\n",
        "plt.figure(figsize=(12, 6))\n",
        "sns.lineplot(data=hourly_avg, x='hr', y='cnt', marker='o', color='coral')\n",
        "plt.title('Rata-Rata Penyewaan Sepeda per Jam')\n",
        "plt.xlabel('Jam')\n",
        "plt.ylabel('Rata-Rata Penyewaan')\n",
        "plt.xticks(range(0, 24))\n",
        "plt.tight_layout()\n",
        "plt.show()\n",
        "\n",
        "# Visualisasi 2: Total Penyewaan Sepeda per Jam (Bar Plot)\n",
        "plt.figure(figsize=(12, 6))\n",
        "sns.barplot(x='hr', y='cnt', data=hour_df, estimator=sum, ci=None, color='mediumseagreen')\n",
        "plt.title('Total Penyewaan Sepeda per Jam')\n",
        "plt.xlabel('Jam')\n",
        "plt.ylabel('Total Penyewaan')\n",
        "plt.xticks(rotation=45)\n",
        "plt.tight_layout()\n",
        "plt.show()"
      ]
    },
    {
      "cell_type": "markdown",
      "source": [
        "**Insight:**\n",
        "- Dari visualisasi line plot, dapat dilihat jam-jam dengan rata-rata penyewaan tertinggi, yang kemungkinan merupakan jam sibuk (misalnya, pagi dan sore hari).\n",
        "- Bar plot total penyewaan per jam memberikan gambaran volume penyewaan dalam angka nyata.\n",
        "- Informasi ini penting untuk pengaturan armada, penjadwalan pemeliharaan, dan optimasi layanan."
      ],
      "metadata": {
        "id": "_0-36BDLklRg"
      }
    },
    {
      "cell_type": "markdown",
      "source": [
        "## Analisis Lanjutan (Opsional)\n",
        "\n",
        "Pengelompokkan Hari Berdasarkan Volume Penyewaan\n",
        "\n",
        "(Tanpa menggunakan algoritma machine learning kompleks, cukup segmentasi sederhana)"
      ],
      "metadata": {
        "id": "9y4VUsmcYNZ5"
      }
    },
    {
      "cell_type": "code",
      "source": [
        "day_df['day_of_week'] = day_df['dteday'].dt.day_name()\n",
        "avg_by_day = day_df.groupby('day_of_week')['cnt'].mean().reset_index()\n",
        "\n",
        "plt.figure(figsize=(10, 6))\n",
        "sns.barplot(x='day_of_week', y='cnt', data=avg_by_day, palette='viridis')\n",
        "plt.title('Rata-Rata Penyewaan Sepeda Berdasarkan Hari dalam Seminggu')\n",
        "plt.xlabel('Hari dalam Seminggu')\n",
        "plt.ylabel('Rata-Rata Penyewaan')\n",
        "plt.xticks(rotation=45)\n",
        "plt.tight_layout()\n",
        "plt.show()"
      ],
      "metadata": {
        "id": "iWhnzsJGYUCO"
      },
      "execution_count": null,
      "outputs": []
    },
    {
      "cell_type": "markdown",
      "source": [
        "**Insight:** Analisis tambahan ini membantu untuk melihat apakah terdapat perbedaan signifikan dalam penyewaan antar hari (misalnya, weekend vs weekday).\n"
      ],
      "metadata": {
        "id": "ZV8fFHBiMZMF"
      }
    },
    {
      "cell_type": "markdown",
      "metadata": {
        "id": "_WeHlCeX8DC2"
      },
      "source": [
        "## Conclusion"
      ]
    },
    {
      "cell_type": "markdown",
      "metadata": {
        "id": "ZTcyR48Y8DC2"
      },
      "source": [
        "1.  Conclution **Pertanyaan 1**: Bagaimana tren penggunaan sepeda harian selama periode tertentu dan apakah faktor cuaca serta hari kerja/holiday berpengaruh signifikan terhadapnya?\n",
        "  - Tren harian menunjukkan adanya fluktuasi penyewaan sepeda yang signifikan.\n",
        "  - Data mengindikasikan bahwa hari kerja dan libur memiliki pola yang berbeda, di mana penyewaan cenderung lebih tinggi pada hari kerja dan saat kondisi cuaca baik.\n",
        "  - Informasi ini dapat membantu dalam pengaturan armada dan penjadwalan operasional yang optimal.\n",
        "\n",
        "2. Conclution **Pertanyaan 2**: Bagaimana pola penggunaan sepeda berdasarkan jam dalam sehari, dan pada jam berapa terdapat puncak penggunaan?\n",
        "    - Analisis per jam mengungkapkan adanya puncak penggunaan pada waktu tertentu, misalnya pada pagi dan sore hari, yang mungkin berkaitan dengan jam berangkat dan pulang kerja.\n",
        "    - Dengan mengetahui jam puncak, perusahaan dapat menyesuaikan distribusi sepeda dan meningkatkan efisiensi layanan, termasuk dalam penjadwalan pemeliharaan."
      ]
    },
    {
      "cell_type": "markdown",
      "source": [
        "## Penutup"
      ],
      "metadata": {
        "id": "qItkphhrOECS"
      }
    },
    {
      "cell_type": "markdown",
      "source": [
        "Dokumentasi lengkap, insight di setiap tahapan, serta visualisasi yang jelas diharapkan dapat memberikan gambaran yang komprehensif atas analisis data Bike Sharing. Selanjutnya, dashboard sederhana telah dibuat menggunakan Streamlit (lihat file dashboard.py) dan sudah dideploy pada Streamlit Cloud (tautan dashboard terdapat di file url.txt)."
      ],
      "metadata": {
        "id": "KWHyr5EIOIQf"
      }
    }
  ],
  "metadata": {
    "kernelspec": {
      "display_name": "Python 3",
      "language": "python",
      "name": "python3"
    },
    "language_info": {
      "name": "python",
      "version": "3.8.0 (tags/v3.8.0:fa919fd, Oct 14 2019, 19:21:23) [MSC v.1916 32 bit (Intel)]"
    },
    "orig_nbformat": 4,
    "vscode": {
      "interpreter": {
        "hash": "972b3bf27e332e87b5379f2791f6ef9dfc79c71018c370b0d7423235e20fe4d7"
      }
    },
    "colab": {
      "provenance": []
    }
  },
  "nbformat": 4,
  "nbformat_minor": 0
}